{
  "nbformat": 4,
  "nbformat_minor": 0,
  "metadata": {
    "colab": {
      "provenance": [],
      "authorship_tag": "ABX9TyNSbQ+qzc7ka7hGRrO1FP5P",
      "include_colab_link": true
    },
    "kernelspec": {
      "name": "python3",
      "display_name": "Python 3"
    },
    "language_info": {
      "name": "python"
    }
  },
  "cells": [
    {
      "cell_type": "markdown",
      "metadata": {
        "id": "view-in-github",
        "colab_type": "text"
      },
      "source": [
        "<a href=\"https://colab.research.google.com/github/umashankar43631/colab_notebooks/blob/main/Numpy.ipynb\" target=\"_parent\"><img src=\"https://colab.research.google.com/assets/colab-badge.svg\" alt=\"Open In Colab\"/></a>"
      ]
    },
    {
      "cell_type": "code",
      "source": [
        "import numpy as np"
      ],
      "metadata": {
        "id": "a99-N4mGLZeZ"
      },
      "execution_count": null,
      "outputs": []
    },
    {
      "cell_type": "code",
      "source": [
        "arr1 = np.array([1, 2, 3])\n",
        "arr2 = np.array([[1, 2], [3, 4]])"
      ],
      "metadata": {
        "id": "WWlOeHbLLc9Q"
      },
      "execution_count": null,
      "outputs": []
    },
    {
      "cell_type": "code",
      "source": [
        "print(np.arange(1,15,2))"
      ],
      "metadata": {
        "colab": {
          "base_uri": "https://localhost:8080/"
        },
        "id": "qTVPhHZ0wY05",
        "outputId": "57f4500f-606c-4414-9144-6a34f4b89f1a"
      },
      "execution_count": null,
      "outputs": [
        {
          "output_type": "stream",
          "name": "stdout",
          "text": [
            "[ 1  3  5  7  9 11 13]\n"
          ]
        }
      ]
    },
    {
      "cell_type": "code",
      "source": [
        "print(np.ones((3,4)))\n",
        "print(np.zeros((3,4)))"
      ],
      "metadata": {
        "colab": {
          "base_uri": "https://localhost:8080/"
        },
        "id": "fvdAVGZjwI3d",
        "outputId": "6a73a2f8-e9bc-4592-adea-34e55171ede6"
      },
      "execution_count": null,
      "outputs": [
        {
          "output_type": "execute_result",
          "data": {
            "text/plain": [
              "array([[1., 1., 1., 1.],\n",
              "       [1., 1., 1., 1.],\n",
              "       [1., 1., 1., 1.]])"
            ]
          },
          "metadata": {},
          "execution_count": 4
        }
      ]
    },
    {
      "cell_type": "code",
      "source": [
        "np.linspace(1,10,5)"
      ],
      "metadata": {
        "colab": {
          "base_uri": "https://localhost:8080/"
        },
        "id": "ZOOf_-ugwiDr",
        "outputId": "41abae0d-760e-411f-b627-7175eb666729"
      },
      "execution_count": null,
      "outputs": [
        {
          "output_type": "execute_result",
          "data": {
            "text/plain": [
              "array([ 1.  ,  3.25,  5.5 ,  7.75, 10.  ])"
            ]
          },
          "metadata": {},
          "execution_count": 7
        }
      ]
    },
    {
      "cell_type": "code",
      "source": [
        "print(10**1.5)"
      ],
      "metadata": {
        "colab": {
          "base_uri": "https://localhost:8080/"
        },
        "id": "Nqa-koiuycUG",
        "outputId": "c05ad434-41b6-4ab7-80de-bd9253b1522f"
      },
      "execution_count": null,
      "outputs": [
        {
          "output_type": "stream",
          "name": "stdout",
          "text": [
            "31.622776601683793\n"
          ]
        }
      ]
    },
    {
      "cell_type": "code",
      "source": [
        "np.logspace(1,3,5)"
      ],
      "metadata": {
        "colab": {
          "base_uri": "https://localhost:8080/"
        },
        "id": "K7uO2aOBw_-7",
        "outputId": "485c3343-c950-4804-ba53-6b7fdd4086cc"
      },
      "execution_count": null,
      "outputs": [
        {
          "output_type": "execute_result",
          "data": {
            "text/plain": [
              "array([  10.        ,   31.6227766 ,  100.        ,  316.22776602,\n",
              "       1000.        ])"
            ]
          },
          "metadata": {},
          "execution_count": 14
        }
      ]
    },
    {
      "cell_type": "code",
      "source": [
        "ar1 = np.array([1,2,3])\n",
        "print(f\"array dimension{ar1.ndim}, array shape {ar1.shape}\")"
      ],
      "metadata": {
        "colab": {
          "base_uri": "https://localhost:8080/"
        },
        "id": "pfexQCPLykHB",
        "outputId": "65312977-a471-4107-bcbf-16731014aeed"
      },
      "execution_count": null,
      "outputs": [
        {
          "output_type": "stream",
          "name": "stdout",
          "text": [
            "array dimension1, array shape (3,)\n"
          ]
        }
      ]
    },
    {
      "cell_type": "code",
      "source": [
        "print(ar1.size)\n"
      ],
      "metadata": {
        "colab": {
          "base_uri": "https://localhost:8080/"
        },
        "id": "ZYA49_wWzPZW",
        "outputId": "778ff000-e22d-4a2a-9d6b-b8b1fb3ef580"
      },
      "execution_count": null,
      "outputs": [
        {
          "output_type": "stream",
          "name": "stdout",
          "text": [
            "3\n"
          ]
        }
      ]
    },
    {
      "cell_type": "code",
      "source": [
        "ar2 = np.array([[1,2,3], [4,5,6]])\n",
        "print(ar2.shape)\n",
        "print(ar2.size)\n",
        "print(ar2)"
      ],
      "metadata": {
        "colab": {
          "base_uri": "https://localhost:8080/"
        },
        "id": "eL2h6n2GzXKT",
        "outputId": "d592a9a4-a83b-47c6-c13f-c88c936f0b74"
      },
      "execution_count": null,
      "outputs": [
        {
          "output_type": "stream",
          "name": "stdout",
          "text": [
            "(2, 3)\n",
            "6\n",
            "[[1 2 3]\n",
            " [4 5 6]]\n"
          ]
        }
      ]
    },
    {
      "cell_type": "code",
      "source": [
        "print(\"arr1 properties:\")\n",
        "print(\"ndim:\", arr1.ndim)\n",
        "print(\"shape:\", arr1.shape)\n",
        "print(\"size:\", arr1.size)\n",
        "print(\"dtype:\", arr1.dtype)\n",
        "\n",
        "print(\"\\narr2 properties:\")\n",
        "print(\"ndim:\", arr2.ndim)\n",
        "print(\"shape:\", arr2.shape)\n",
        "print(\"size:\", arr2.size)\n",
        "print(\"dtype:\", arr2.dtype)"
      ],
      "metadata": {
        "colab": {
          "base_uri": "https://localhost:8080/"
        },
        "id": "QVj0UctLLfi0",
        "outputId": "2fe360d3-4163-4e53-bb6a-e3959237ba36"
      },
      "execution_count": null,
      "outputs": [
        {
          "output_type": "stream",
          "name": "stdout",
          "text": [
            "arr1 properties:\n",
            "ndim: 1\n",
            "shape: (3,)\n",
            "size: 3\n",
            "dtype: int64\n",
            "\n",
            "arr2 properties:\n",
            "ndim: 2\n",
            "shape: (2, 2)\n",
            "size: 4\n",
            "dtype: int64\n"
          ]
        }
      ]
    },
    {
      "cell_type": "markdown",
      "metadata": {
        "id": "07273fbe"
      },
      "source": [
        "**arrange and reshape**\n",
        "\n",
        "**`np.arange(start, stop, step)`**: This function creates a NumPy array with evenly spaced values within a given interval.\n",
        "\n",
        "*   `start`: The starting value of the sequence (inclusive).\n",
        "*   `stop`: The end value of the sequence (exclusive).\n",
        "*   `step`: The step size between values (default is 1).\n",
        "\n",
        "For example, `np.arange(10)` creates an array from 0 to 9. `np.arange(2, 10, 2)` creates an array with values 2, 4, 6, and 8.\n",
        "\n",
        "**`.reshape(shape)`**: This method changes the shape of a NumPy array without changing its data.\n",
        "\n",
        "*   `shape`: A tuple or integer specifying the new dimensions of the array. The total number of elements in the original array must match the total number of elements in the new shape. You can use `-1` in one of the dimensions, and NumPy will automatically calculate the correct size for that dimension based on the array's size.\n",
        "\n",
        "For example, if you have a 1D array with 12 elements, you can reshape it into a 2D array of shape `(3, 4)` or `(4, 3)`, or a 3D array of shape `(2, 3, 2)`, as long as the product of the dimensions equals 12."
      ]
    },
    {
      "cell_type": "code",
      "source": [
        "# 4x5 -> 2d matrix\n",
        "# 2x2 -> 2d matrix"
      ],
      "metadata": {
        "id": "mG66hzf_zqqR"
      },
      "execution_count": null,
      "outputs": []
    },
    {
      "cell_type": "code",
      "source": [
        "3x4 -2d matrix\n",
        "3x4"
      ],
      "metadata": {
        "id": "1vH5hUYd0S-i"
      },
      "execution_count": null,
      "outputs": []
    },
    {
      "cell_type": "code",
      "source": [
        "np.arange(1,25,1).reshape((2,3,4))"
      ],
      "metadata": {
        "colab": {
          "base_uri": "https://localhost:8080/"
        },
        "id": "g-mO09OMzqY8",
        "outputId": "3c57b895-a254-4442-c34e-80e0613c7c36"
      },
      "execution_count": null,
      "outputs": [
        {
          "output_type": "execute_result",
          "data": {
            "text/plain": [
              "array([[[ 1,  2,  3,  4],\n",
              "        [ 5,  6,  7,  8],\n",
              "        [ 9, 10, 11, 12]],\n",
              "\n",
              "       [[13, 14, 15, 16],\n",
              "        [17, 18, 19, 20],\n",
              "        [21, 22, 23, 24]]])"
            ]
          },
          "metadata": {},
          "execution_count": 25
        }
      ]
    },
    {
      "cell_type": "code",
      "metadata": {
        "colab": {
          "base_uri": "https://localhost:8080/"
        },
        "id": "6Wc6s72iS2_Q",
        "outputId": "e8366649-d0ae-4b0e-f0fc-c288d042b033"
      },
      "source": [
        "arr3d = np.arange(2 * 3 * 4).reshape((2, 3, 4))\n",
        "print(\"3D Array (arr3d):\\n\", arr3d)\n",
        "\n",
        "arr4d = np.arange(2 * 3 * 4 * 5).reshape((2, 3, 4, 5))\n",
        "print(\"\\n4D Array (arr4d):\\n\", arr4d)\n",
        "\n",
        "print(\"\\n slicing on arr3d:\")\n",
        "print(\"arr3d[1, :, [1, 3]]:\\n\", arr3d[1, :, [1, 3]])\n",
        "print(\"arr3d[0, [0, 2], :]:\\n\", arr3d[0, [0, 2], :])\n",
        "\n",
        "print(\"\\nslicing on arr4d:\")\n",
        "print(\"arr4d[0, 1, :, [0, 4]]:\\n\", arr4d[0, 1, :, [0, 4]])\n",
        "print(\"arr4d[:, 0, [1, 3], :]:\\n\", arr4d[:, 0, [1, 3], :])"
      ],
      "execution_count": null,
      "outputs": [
        {
          "output_type": "stream",
          "name": "stdout",
          "text": [
            "3D Array (arr3d):\n",
            " [[[ 0  1  2  3]\n",
            "  [ 4  5  6  7]\n",
            "  [ 8  9 10 11]]\n",
            "\n",
            " [[12 13 14 15]\n",
            "  [16 17 18 19]\n",
            "  [20 21 22 23]]]\n",
            "\n",
            "4D Array (arr4d):\n",
            " [[[[  0   1   2   3   4]\n",
            "   [  5   6   7   8   9]\n",
            "   [ 10  11  12  13  14]\n",
            "   [ 15  16  17  18  19]]\n",
            "\n",
            "  [[ 20  21  22  23  24]\n",
            "   [ 25  26  27  28  29]\n",
            "   [ 30  31  32  33  34]\n",
            "   [ 35  36  37  38  39]]\n",
            "\n",
            "  [[ 40  41  42  43  44]\n",
            "   [ 45  46  47  48  49]\n",
            "   [ 50  51  52  53  54]\n",
            "   [ 55  56  57  58  59]]]\n",
            "\n",
            "\n",
            " [[[ 60  61  62  63  64]\n",
            "   [ 65  66  67  68  69]\n",
            "   [ 70  71  72  73  74]\n",
            "   [ 75  76  77  78  79]]\n",
            "\n",
            "  [[ 80  81  82  83  84]\n",
            "   [ 85  86  87  88  89]\n",
            "   [ 90  91  92  93  94]\n",
            "   [ 95  96  97  98  99]]\n",
            "\n",
            "  [[100 101 102 103 104]\n",
            "   [105 106 107 108 109]\n",
            "   [110 111 112 113 114]\n",
            "   [115 116 117 118 119]]]]\n",
            "\n",
            " slicing on arr3d:\n",
            "arr3d[1, :, [1, 3]]:\n",
            " [[13 17 21]\n",
            " [15 19 23]]\n",
            "arr3d[0, [0, 2], :]:\n",
            " [[ 0  1  2  3]\n",
            " [ 8  9 10 11]]\n",
            "\n",
            "slicing on arr4d:\n",
            "arr4d[0, 1, :, [0, 4]]:\n",
            " [[20 25 30 35]\n",
            " [24 29 34 39]]\n",
            "arr4d[:, 0, [1, 3], :]:\n",
            " [[[ 5  6  7  8  9]\n",
            "  [15 16 17 18 19]]\n",
            "\n",
            " [[65 66 67 68 69]\n",
            "  [75 76 77 78 79]]]\n"
          ]
        }
      ]
    },
    {
      "cell_type": "code",
      "source": [
        "print(arr3d)"
      ],
      "metadata": {
        "id": "14TrQCfYMVl6",
        "colab": {
          "base_uri": "https://localhost:8080/"
        },
        "outputId": "e913d96f-8448-4933-854d-719133400ebf"
      },
      "execution_count": null,
      "outputs": [
        {
          "output_type": "stream",
          "name": "stdout",
          "text": [
            "[[[ 0  1  2  3]\n",
            "  [ 4  5  6  7]\n",
            "  [ 8  9 10 11]]\n",
            "\n",
            " [[12 13 14 15]\n",
            "  [16 17 18 19]\n",
            "  [20 21 22 23]]]\n"
          ]
        }
      ]
    },
    {
      "cell_type": "code",
      "source": [
        "print(\"arr3d[1, :, [1, 3]]:\\n\", arr3d[1, :, [1, 3]])"
      ],
      "metadata": {
        "colab": {
          "base_uri": "https://localhost:8080/"
        },
        "id": "lbacLuQSH9Aq",
        "outputId": "3caf480b-7456-47ca-e795-241b6c1bc3b9"
      },
      "execution_count": null,
      "outputs": [
        {
          "output_type": "stream",
          "name": "stdout",
          "text": [
            "arr3d[1, :, [1, 3]]:\n",
            " [[13 17 21]\n",
            " [15 19 23]]\n"
          ]
        }
      ]
    },
    {
      "cell_type": "code",
      "source": [
        "arr3d[:,:,2].flatten()"
      ],
      "metadata": {
        "id": "y5Drp6RaMVjK",
        "colab": {
          "base_uri": "https://localhost:8080/"
        },
        "outputId": "423e8a47-2af7-412f-c744-d17daa3af415"
      },
      "execution_count": null,
      "outputs": [
        {
          "output_type": "execute_result",
          "data": {
            "text/plain": [
              "array([ 2,  6, 10, 14, 18, 22])"
            ]
          },
          "metadata": {},
          "execution_count": 8
        }
      ]
    },
    {
      "cell_type": "code",
      "source": [
        "# Zeros array\n",
        "zeros_array = np.zeros((2, 3))\n",
        "print(\"Zeros Array:\\n\", zeros_array)\n",
        "\n",
        "# Ones array\n",
        "ones_array = np.ones((2, 3))\n",
        "print(\"\\nOnes Array:\\n\", ones_array)\n",
        "\n",
        "# Full array with constant value\n",
        "full_array = np.full((2, 3), 7)\n",
        "print(\"\\nFull Array (filled with 7):\\n\", full_array)\n",
        "\n",
        "# Identity matrix\n",
        "eye_array = np.eye(3)\n",
        "print(\"\\nIdentity Matrix (Eye):\\n\", eye_array)\n",
        "\n",
        "# Empty array (uninitialized values)\n",
        "empty_array = np.empty((2, 3))\n",
        "print(\"\\nEmpty Array (uninitialized values):\\n\", empty_array)"
      ],
      "metadata": {
        "id": "qvizQcHOMVgO"
      },
      "execution_count": null,
      "outputs": []
    },
    {
      "cell_type": "code",
      "source": [],
      "metadata": {
        "id": "xHZHfzp0jN1U"
      },
      "execution_count": null,
      "outputs": []
    },
    {
      "cell_type": "code",
      "source": [
        "# Scalar Addition\n",
        "\n",
        "arr = np.array([[1, 2], [3, 4]])\n",
        "result = arr + 5\n",
        "print(result)\n"
      ],
      "metadata": {
        "id": "4APlmdGpjNvG"
      },
      "execution_count": null,
      "outputs": []
    },
    {
      "cell_type": "code",
      "source": [
        "a = np.array([[1, 2], [3, 4]])\n",
        "b = np.array([[2, 2], [2, 2]])\n",
        "print(a * b)"
      ],
      "metadata": {
        "id": "Pw5Aea1EjNgd"
      },
      "execution_count": null,
      "outputs": []
    },
    {
      "cell_type": "code",
      "source": [
        "a = np.array([[1, 2], [3, 4]])\n",
        "b = np.array([[5, 6], [7, 8]])\n",
        "print(a @ b)  # or np.matmul(a, b)\n"
      ],
      "metadata": {
        "id": "RmZ6sCc4l7ZC"
      },
      "execution_count": null,
      "outputs": []
    },
    {
      "cell_type": "code",
      "source": [
        "np.linspace(1,3,3)"
      ],
      "metadata": {
        "colab": {
          "base_uri": "https://localhost:8080/"
        },
        "id": "jYGep9g7x7Ox",
        "outputId": "2080cd95-733d-42af-d524-7eb83119fcc4"
      },
      "execution_count": null,
      "outputs": [
        {
          "output_type": "execute_result",
          "data": {
            "text/plain": [
              "array([1., 2., 3.])"
            ]
          },
          "metadata": {},
          "execution_count": 12
        }
      ]
    },
    {
      "cell_type": "code",
      "source": [],
      "metadata": {
        "id": "t5nRnDhSx9AW"
      },
      "execution_count": null,
      "outputs": []
    }
  ]
}