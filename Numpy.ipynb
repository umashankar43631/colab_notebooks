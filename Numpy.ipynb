{
  "nbformat": 4,
  "nbformat_minor": 0,
  "metadata": {
    "colab": {
      "provenance": [],
      "mount_file_id": "1FDKUhB95VK2XYA66iQ7K5Kk-N3_f4pTc",
      "authorship_tag": "ABX9TyOY/qsyVbqJVNOnHwBGN847",
      "include_colab_link": true
    },
    "kernelspec": {
      "name": "python3",
      "display_name": "Python 3"
    },
    "language_info": {
      "name": "python"
    }
  },
  "cells": [
    {
      "cell_type": "markdown",
      "metadata": {
        "id": "view-in-github",
        "colab_type": "text"
      },
      "source": [
        "<a href=\"https://colab.research.google.com/github/umashankar43631/colab_notebooks/blob/main/Numpy.ipynb\" target=\"_parent\"><img src=\"https://colab.research.google.com/assets/colab-badge.svg\" alt=\"Open In Colab\"/></a>"
      ]
    },
    {
      "cell_type": "code",
      "source": [
        "import numpy as np"
      ],
      "metadata": {
        "id": "a99-N4mGLZeZ"
      },
      "execution_count": 11,
      "outputs": []
    },
    {
      "cell_type": "code",
      "source": [
        "arr1 = np.array([1, 2, 3])\n",
        "arr2 = np.array([[1, 2], [3, 4]])"
      ],
      "metadata": {
        "id": "WWlOeHbLLc9Q"
      },
      "execution_count": null,
      "outputs": []
    },
    {
      "cell_type": "code",
      "source": [
        "print(np.arange(1,15,2))"
      ],
      "metadata": {
        "colab": {
          "base_uri": "https://localhost:8080/"
        },
        "id": "qTVPhHZ0wY05",
        "outputId": "57f4500f-606c-4414-9144-6a34f4b89f1a"
      },
      "execution_count": null,
      "outputs": [
        {
          "output_type": "stream",
          "name": "stdout",
          "text": [
            "[ 1  3  5  7  9 11 13]\n"
          ]
        }
      ]
    },
    {
      "cell_type": "code",
      "source": [
        "print(np.ones((3,4)))\n",
        "print(np.zeros((3,4)))"
      ],
      "metadata": {
        "colab": {
          "base_uri": "https://localhost:8080/"
        },
        "id": "fvdAVGZjwI3d",
        "outputId": "6a73a2f8-e9bc-4592-adea-34e55171ede6"
      },
      "execution_count": null,
      "outputs": [
        {
          "output_type": "execute_result",
          "data": {
            "text/plain": [
              "array([[1., 1., 1., 1.],\n",
              "       [1., 1., 1., 1.],\n",
              "       [1., 1., 1., 1.]])"
            ]
          },
          "metadata": {},
          "execution_count": 4
        }
      ]
    },
    {
      "cell_type": "code",
      "source": [
        "np.linspace(1,10,5)"
      ],
      "metadata": {
        "colab": {
          "base_uri": "https://localhost:8080/"
        },
        "id": "ZOOf_-ugwiDr",
        "outputId": "41abae0d-760e-411f-b627-7175eb666729"
      },
      "execution_count": null,
      "outputs": [
        {
          "output_type": "execute_result",
          "data": {
            "text/plain": [
              "array([ 1.  ,  3.25,  5.5 ,  7.75, 10.  ])"
            ]
          },
          "metadata": {},
          "execution_count": 7
        }
      ]
    },
    {
      "cell_type": "code",
      "source": [
        "print(10**1.5)"
      ],
      "metadata": {
        "colab": {
          "base_uri": "https://localhost:8080/"
        },
        "id": "Nqa-koiuycUG",
        "outputId": "c05ad434-41b6-4ab7-80de-bd9253b1522f"
      },
      "execution_count": null,
      "outputs": [
        {
          "output_type": "stream",
          "name": "stdout",
          "text": [
            "31.622776601683793\n"
          ]
        }
      ]
    },
    {
      "cell_type": "code",
      "source": [
        "np.logspace(1,3,5)"
      ],
      "metadata": {
        "colab": {
          "base_uri": "https://localhost:8080/"
        },
        "id": "K7uO2aOBw_-7",
        "outputId": "485c3343-c950-4804-ba53-6b7fdd4086cc"
      },
      "execution_count": null,
      "outputs": [
        {
          "output_type": "execute_result",
          "data": {
            "text/plain": [
              "array([  10.        ,   31.6227766 ,  100.        ,  316.22776602,\n",
              "       1000.        ])"
            ]
          },
          "metadata": {},
          "execution_count": 14
        }
      ]
    },
    {
      "cell_type": "code",
      "source": [
        "ar1 = np.array([1,2,3])\n",
        "print(f\"array dimension{ar1.ndim}, array shape {ar1.shape}\")"
      ],
      "metadata": {
        "colab": {
          "base_uri": "https://localhost:8080/"
        },
        "id": "pfexQCPLykHB",
        "outputId": "65312977-a471-4107-bcbf-16731014aeed"
      },
      "execution_count": null,
      "outputs": [
        {
          "output_type": "stream",
          "name": "stdout",
          "text": [
            "array dimension1, array shape (3,)\n"
          ]
        }
      ]
    },
    {
      "cell_type": "code",
      "source": [
        "print(ar1.size)\n"
      ],
      "metadata": {
        "colab": {
          "base_uri": "https://localhost:8080/"
        },
        "id": "ZYA49_wWzPZW",
        "outputId": "778ff000-e22d-4a2a-9d6b-b8b1fb3ef580"
      },
      "execution_count": null,
      "outputs": [
        {
          "output_type": "stream",
          "name": "stdout",
          "text": [
            "3\n"
          ]
        }
      ]
    },
    {
      "cell_type": "code",
      "source": [
        "ar2 = np.array([[1,2,3], [4,5,6]])\n",
        "print(ar2.shape)\n",
        "print(ar2.size)\n",
        "print(ar2)"
      ],
      "metadata": {
        "colab": {
          "base_uri": "https://localhost:8080/"
        },
        "id": "eL2h6n2GzXKT",
        "outputId": "d592a9a4-a83b-47c6-c13f-c88c936f0b74"
      },
      "execution_count": null,
      "outputs": [
        {
          "output_type": "stream",
          "name": "stdout",
          "text": [
            "(2, 3)\n",
            "6\n",
            "[[1 2 3]\n",
            " [4 5 6]]\n"
          ]
        }
      ]
    },
    {
      "cell_type": "code",
      "source": [
        "print(\"arr1 properties:\")\n",
        "print(\"ndim:\", arr1.ndim)\n",
        "print(\"shape:\", arr1.shape)\n",
        "print(\"size:\", arr1.size)\n",
        "print(\"dtype:\", arr1.dtype)\n",
        "\n",
        "print(\"\\narr2 properties:\")\n",
        "print(\"ndim:\", arr2.ndim)\n",
        "print(\"shape:\", arr2.shape)\n",
        "print(\"size:\", arr2.size)\n",
        "print(\"dtype:\", arr2.dtype)"
      ],
      "metadata": {
        "colab": {
          "base_uri": "https://localhost:8080/"
        },
        "id": "QVj0UctLLfi0",
        "outputId": "2fe360d3-4163-4e53-bb6a-e3959237ba36"
      },
      "execution_count": null,
      "outputs": [
        {
          "output_type": "stream",
          "name": "stdout",
          "text": [
            "arr1 properties:\n",
            "ndim: 1\n",
            "shape: (3,)\n",
            "size: 3\n",
            "dtype: int64\n",
            "\n",
            "arr2 properties:\n",
            "ndim: 2\n",
            "shape: (2, 2)\n",
            "size: 4\n",
            "dtype: int64\n"
          ]
        }
      ]
    },
    {
      "cell_type": "markdown",
      "metadata": {
        "id": "07273fbe"
      },
      "source": [
        "**arrange and reshape**\n",
        "\n",
        "**`np.arange(start, stop, step)`**: This function creates a NumPy array with evenly spaced values within a given interval.\n",
        "\n",
        "*   `start`: The starting value of the sequence (inclusive).\n",
        "*   `stop`: The end value of the sequence (exclusive).\n",
        "*   `step`: The step size between values (default is 1).\n",
        "\n",
        "For example, `np.arange(10)` creates an array from 0 to 9. `np.arange(2, 10, 2)` creates an array with values 2, 4, 6, and 8.\n",
        "\n",
        "**`.reshape(shape)`**: This method changes the shape of a NumPy array without changing its data.\n",
        "\n",
        "*   `shape`: A tuple or integer specifying the new dimensions of the array. The total number of elements in the original array must match the total number of elements in the new shape. You can use `-1` in one of the dimensions, and NumPy will automatically calculate the correct size for that dimension based on the array's size.\n",
        "\n",
        "For example, if you have a 1D array with 12 elements, you can reshape it into a 2D array of shape `(3, 4)` or `(4, 3)`, or a 3D array of shape `(2, 3, 2)`, as long as the product of the dimensions equals 12."
      ]
    },
    {
      "cell_type": "code",
      "source": [
        "# 4x5 -> 2d matrix\n",
        "# 2x2 -> 2d matrix"
      ],
      "metadata": {
        "id": "mG66hzf_zqqR"
      },
      "execution_count": null,
      "outputs": []
    },
    {
      "cell_type": "code",
      "source": [
        "3x4 -2d matrix\n",
        "3x4"
      ],
      "metadata": {
        "id": "1vH5hUYd0S-i"
      },
      "execution_count": null,
      "outputs": []
    },
    {
      "cell_type": "code",
      "source": [
        "np.arange(1,25,1).reshape((2,3,4))"
      ],
      "metadata": {
        "colab": {
          "base_uri": "https://localhost:8080/"
        },
        "id": "g-mO09OMzqY8",
        "outputId": "3c57b895-a254-4442-c34e-80e0613c7c36"
      },
      "execution_count": null,
      "outputs": [
        {
          "output_type": "execute_result",
          "data": {
            "text/plain": [
              "array([[[ 1,  2,  3,  4],\n",
              "        [ 5,  6,  7,  8],\n",
              "        [ 9, 10, 11, 12]],\n",
              "\n",
              "       [[13, 14, 15, 16],\n",
              "        [17, 18, 19, 20],\n",
              "        [21, 22, 23, 24]]])"
            ]
          },
          "metadata": {},
          "execution_count": 25
        }
      ]
    },
    {
      "cell_type": "code",
      "metadata": {
        "colab": {
          "base_uri": "https://localhost:8080/"
        },
        "id": "6Wc6s72iS2_Q",
        "outputId": "e8366649-d0ae-4b0e-f0fc-c288d042b033"
      },
      "source": [
        "arr3d = np.arange(2 * 3 * 4).reshape((2, 3, 4))\n",
        "print(\"3D Array (arr3d):\\n\", arr3d)\n",
        "\n",
        "arr4d = np.arange(2 * 3 * 4 * 5).reshape((2, 3, 4, 5))\n",
        "print(\"\\n4D Array (arr4d):\\n\", arr4d)\n",
        "\n",
        "print(\"\\n slicing on arr3d:\")\n",
        "print(\"arr3d[1, :, [1, 3]]:\\n\", arr3d[1, :, [1, 3]])\n",
        "print(\"arr3d[0, [0, 2], :]:\\n\", arr3d[0, [0, 2], :])\n",
        "\n",
        "print(\"\\nslicing on arr4d:\")\n",
        "print(\"arr4d[0, 1, :, [0, 4]]:\\n\", arr4d[0, 1, :, [0, 4]])\n",
        "print(\"arr4d[:, 0, [1, 3], :]:\\n\", arr4d[:, 0, [1, 3], :])"
      ],
      "execution_count": null,
      "outputs": [
        {
          "output_type": "stream",
          "name": "stdout",
          "text": [
            "3D Array (arr3d):\n",
            " [[[ 0  1  2  3]\n",
            "  [ 4  5  6  7]\n",
            "  [ 8  9 10 11]]\n",
            "\n",
            " [[12 13 14 15]\n",
            "  [16 17 18 19]\n",
            "  [20 21 22 23]]]\n",
            "\n",
            "4D Array (arr4d):\n",
            " [[[[  0   1   2   3   4]\n",
            "   [  5   6   7   8   9]\n",
            "   [ 10  11  12  13  14]\n",
            "   [ 15  16  17  18  19]]\n",
            "\n",
            "  [[ 20  21  22  23  24]\n",
            "   [ 25  26  27  28  29]\n",
            "   [ 30  31  32  33  34]\n",
            "   [ 35  36  37  38  39]]\n",
            "\n",
            "  [[ 40  41  42  43  44]\n",
            "   [ 45  46  47  48  49]\n",
            "   [ 50  51  52  53  54]\n",
            "   [ 55  56  57  58  59]]]\n",
            "\n",
            "\n",
            " [[[ 60  61  62  63  64]\n",
            "   [ 65  66  67  68  69]\n",
            "   [ 70  71  72  73  74]\n",
            "   [ 75  76  77  78  79]]\n",
            "\n",
            "  [[ 80  81  82  83  84]\n",
            "   [ 85  86  87  88  89]\n",
            "   [ 90  91  92  93  94]\n",
            "   [ 95  96  97  98  99]]\n",
            "\n",
            "  [[100 101 102 103 104]\n",
            "   [105 106 107 108 109]\n",
            "   [110 111 112 113 114]\n",
            "   [115 116 117 118 119]]]]\n",
            "\n",
            " slicing on arr3d:\n",
            "arr3d[1, :, [1, 3]]:\n",
            " [[13 17 21]\n",
            " [15 19 23]]\n",
            "arr3d[0, [0, 2], :]:\n",
            " [[ 0  1  2  3]\n",
            " [ 8  9 10 11]]\n",
            "\n",
            "slicing on arr4d:\n",
            "arr4d[0, 1, :, [0, 4]]:\n",
            " [[20 25 30 35]\n",
            " [24 29 34 39]]\n",
            "arr4d[:, 0, [1, 3], :]:\n",
            " [[[ 5  6  7  8  9]\n",
            "  [15 16 17 18 19]]\n",
            "\n",
            " [[65 66 67 68 69]\n",
            "  [75 76 77 78 79]]]\n"
          ]
        }
      ]
    },
    {
      "cell_type": "code",
      "source": [
        "print(arr3d)"
      ],
      "metadata": {
        "id": "14TrQCfYMVl6",
        "colab": {
          "base_uri": "https://localhost:8080/"
        },
        "outputId": "e913d96f-8448-4933-854d-719133400ebf"
      },
      "execution_count": null,
      "outputs": [
        {
          "output_type": "stream",
          "name": "stdout",
          "text": [
            "[[[ 0  1  2  3]\n",
            "  [ 4  5  6  7]\n",
            "  [ 8  9 10 11]]\n",
            "\n",
            " [[12 13 14 15]\n",
            "  [16 17 18 19]\n",
            "  [20 21 22 23]]]\n"
          ]
        }
      ]
    },
    {
      "cell_type": "code",
      "source": [
        "print(\"arr3d[1, :, [1, 3]]:\\n\", arr3d[1, :, [1, 3]])"
      ],
      "metadata": {
        "colab": {
          "base_uri": "https://localhost:8080/"
        },
        "id": "lbacLuQSH9Aq",
        "outputId": "3caf480b-7456-47ca-e795-241b6c1bc3b9"
      },
      "execution_count": null,
      "outputs": [
        {
          "output_type": "stream",
          "name": "stdout",
          "text": [
            "arr3d[1, :, [1, 3]]:\n",
            " [[13 17 21]\n",
            " [15 19 23]]\n"
          ]
        }
      ]
    },
    {
      "cell_type": "code",
      "source": [
        "arr3d[:,:,2].flatten()"
      ],
      "metadata": {
        "id": "y5Drp6RaMVjK",
        "colab": {
          "base_uri": "https://localhost:8080/"
        },
        "outputId": "423e8a47-2af7-412f-c744-d17daa3af415"
      },
      "execution_count": null,
      "outputs": [
        {
          "output_type": "execute_result",
          "data": {
            "text/plain": [
              "array([ 2,  6, 10, 14, 18, 22])"
            ]
          },
          "metadata": {},
          "execution_count": 8
        }
      ]
    },
    {
      "cell_type": "code",
      "source": [
        "# Zeros array\n",
        "zeros_array = np.zeros((2, 3))\n",
        "print(\"Zeros Array:\\n\", zeros_array)\n",
        "\n",
        "# Ones array\n",
        "ones_array = np.ones((2, 3))\n",
        "print(\"\\nOnes Array:\\n\", ones_array)\n",
        "\n",
        "# Full array with constant value\n",
        "full_array = np.full((2, 3), 7)\n",
        "print(\"\\nFull Array (filled with 7):\\n\", full_array)\n",
        "\n",
        "# Identity matrix\n",
        "eye_array = np.eye(3)\n",
        "print(\"\\nIdentity Matrix (Eye):\\n\", eye_array)\n",
        "\n",
        "# Empty array (uninitialized values)\n",
        "empty_array = np.empty((2, 3))\n",
        "print(\"\\nEmpty Array (uninitialized values):\\n\", empty_array)"
      ],
      "metadata": {
        "id": "qvizQcHOMVgO",
        "colab": {
          "base_uri": "https://localhost:8080/"
        },
        "outputId": "b79c6827-d8a8-46c3-c994-451fef3f6aa9"
      },
      "execution_count": null,
      "outputs": [
        {
          "output_type": "stream",
          "name": "stdout",
          "text": [
            "Zeros Array:\n",
            " [[0. 0. 0.]\n",
            " [0. 0. 0.]]\n",
            "\n",
            "Ones Array:\n",
            " [[1. 1. 1.]\n",
            " [1. 1. 1.]]\n",
            "\n",
            "Full Array (filled with 7):\n",
            " [[7 7 7]\n",
            " [7 7 7]]\n",
            "\n",
            "Identity Matrix (Eye):\n",
            " [[1. 0. 0.]\n",
            " [0. 1. 0.]\n",
            " [0. 0. 1.]]\n",
            "\n",
            "Empty Array (uninitialized values):\n",
            " [[1. 1. 1.]\n",
            " [1. 1. 1.]]\n"
          ]
        }
      ]
    },
    {
      "cell_type": "code",
      "source": [
        "3* eye_array"
      ],
      "metadata": {
        "id": "xHZHfzp0jN1U",
        "colab": {
          "base_uri": "https://localhost:8080/"
        },
        "outputId": "2b4c1d4a-d8d0-4005-db91-02cec98f0e2f"
      },
      "execution_count": null,
      "outputs": [
        {
          "output_type": "execute_result",
          "data": {
            "text/plain": [
              "array([[3., 0., 0.],\n",
              "       [0., 3., 0.],\n",
              "       [0., 0., 3.]])"
            ]
          },
          "metadata": {},
          "execution_count": 5
        }
      ]
    },
    {
      "cell_type": "markdown",
      "source": [
        "If two arrays have different shapes, NumPy tries to broadcast them to match shapes so that element-wise operations (like +, -, *, /) can still be performed."
      ],
      "metadata": {
        "id": "UlRxisorWXw5"
      }
    },
    {
      "cell_type": "code",
      "source": [
        "ar6 = np.arange(1,10,1).reshape(3,3)\n",
        "print(ar6)\n",
        "ar6 = ar6.flatten()"
      ],
      "metadata": {
        "colab": {
          "base_uri": "https://localhost:8080/"
        },
        "id": "1WHYWwJHZKTn",
        "outputId": "8c383c9d-16ca-49ef-8314-3a484ec0bf5d"
      },
      "execution_count": null,
      "outputs": [
        {
          "output_type": "stream",
          "name": "stdout",
          "text": [
            "[[1 2 3]\n",
            " [4 5 6]\n",
            " [7 8 9]]\n"
          ]
        }
      ]
    },
    {
      "cell_type": "code",
      "source": [
        "ar6"
      ],
      "metadata": {
        "colab": {
          "base_uri": "https://localhost:8080/"
        },
        "id": "_VXMbApTd2l7",
        "outputId": "6d4d3312-e94e-4b66-e36c-08c537968e92"
      },
      "execution_count": null,
      "outputs": [
        {
          "output_type": "execute_result",
          "data": {
            "text/plain": [
              "array([1, 2, 3, 4, 5, 6, 7, 8, 9])"
            ]
          },
          "metadata": {},
          "execution_count": 23
        }
      ]
    },
    {
      "cell_type": "code",
      "source": [
        "b = np.array([[1, 2, 3],\n",
        "              [4, 5, 6]])\n",
        "# indexing done using [], [row_number, col_number]\n",
        "print(b[0, 0])   # Row 0, Col 0 → 1\n",
        "print(b[1, 2])   # Row 1, Col 2 → 6\n",
        "# b[1] [4,5,6] -> b[1][2] -6\n",
        "print(b[1][2])   # Same as above (chainedone)\n"
      ],
      "metadata": {
        "colab": {
          "base_uri": "https://localhost:8080/"
        },
        "id": "O8TgfFMBZKQc",
        "outputId": "b101b4a2-7d0f-4684-9e18-efc885acd4d9"
      },
      "execution_count": null,
      "outputs": [
        {
          "output_type": "stream",
          "name": "stdout",
          "text": [
            "1\n",
            "6\n",
            "6\n"
          ]
        }
      ]
    },
    {
      "cell_type": "code",
      "source": [
        "ar5 = np.arange(1,21,1).reshape(2,2,5)\n",
        "print(ar5)"
      ],
      "metadata": {
        "colab": {
          "base_uri": "https://localhost:8080/"
        },
        "id": "9qcdO987cB_H",
        "outputId": "b9ddfe08-cb33-4c58-a722-30958823e63a"
      },
      "execution_count": null,
      "outputs": [
        {
          "output_type": "stream",
          "name": "stdout",
          "text": [
            "[[[ 1  2  3  4  5]\n",
            "  [ 6  7  8  9 10]]\n",
            "\n",
            " [[11 12 13 14 15]\n",
            "  [16 17 18 19 20]]]\n"
          ]
        }
      ]
    },
    {
      "cell_type": "markdown",
      "source": [
        "# Depth as another dimension in 3d array"
      ],
      "metadata": {
        "id": "aq1KzEsDc5K6"
      }
    },
    {
      "cell_type": "code",
      "source": [
        "print(ar5[1,:,:])\n",
        "print(ar5[1,0,2:])\n",
        "print(ar5[1][0][2:])"
      ],
      "metadata": {
        "colab": {
          "base_uri": "https://localhost:8080/"
        },
        "id": "wSYD-7eOcNEk",
        "outputId": "da4750bc-eefb-4777-f46c-aab0db09017b"
      },
      "execution_count": null,
      "outputs": [
        {
          "output_type": "stream",
          "name": "stdout",
          "text": [
            "[[11 12 13 14 15]\n",
            " [16 17 18 19 20]]\n",
            "[13 14 15]\n",
            "[13 14 15]\n"
          ]
        }
      ]
    },
    {
      "cell_type": "code",
      "source": [
        "a = np.array([10, 20, 30, 40, 50])\n",
        "idx = [0, 2, 4]\n",
        "print(a[idx])     # [10 30 50]\n",
        "print(ar5[ar5>10])"
      ],
      "metadata": {
        "colab": {
          "base_uri": "https://localhost:8080/"
        },
        "id": "efWlxt-eZKNj",
        "outputId": "19d5682a-8937-4670-9832-bb05839ed72a"
      },
      "execution_count": null,
      "outputs": [
        {
          "output_type": "stream",
          "name": "stdout",
          "text": [
            "[10 30 50]\n",
            "[11 12 13 14 15 16 17 18 19 20]\n"
          ]
        }
      ]
    },
    {
      "cell_type": "code",
      "source": [],
      "metadata": {
        "id": "eKDyT8neZUrM"
      },
      "execution_count": null,
      "outputs": []
    },
    {
      "cell_type": "code",
      "source": [
        "# Scalar Addition\n",
        "\n",
        "arr = np.array([[1, 2], [3, 4]])\n",
        "result = arr + 5\n",
        "print(result)\n"
      ],
      "metadata": {
        "id": "4APlmdGpjNvG",
        "colab": {
          "base_uri": "https://localhost:8080/"
        },
        "outputId": "36bc0c62-3f35-49e7-9e9a-0637090d0023"
      },
      "execution_count": null,
      "outputs": [
        {
          "output_type": "stream",
          "name": "stdout",
          "text": [
            "[[6 7]\n",
            " [8 9]]\n"
          ]
        }
      ]
    },
    {
      "cell_type": "code",
      "source": [
        "ls1 = [[1,2,3],[4,5,6]]\n",
        "print(ls1 + [3,5,6])"
      ],
      "metadata": {
        "colab": {
          "base_uri": "https://localhost:8080/"
        },
        "id": "b3LTJGMgenUR",
        "outputId": "5581e1dc-9a79-423d-e506-0059ef8f9659"
      },
      "execution_count": null,
      "outputs": [
        {
          "output_type": "stream",
          "name": "stdout",
          "text": [
            "[[1, 2, 3], [4, 5, 6], 3, 5, 6]\n"
          ]
        }
      ]
    },
    {
      "cell_type": "code",
      "source": [
        "(1,3), (2,3)"
      ],
      "metadata": {
        "id": "iMuK1NbAe94r"
      },
      "execution_count": null,
      "outputs": []
    },
    {
      "cell_type": "code",
      "source": [
        "# shape of matrices should be same when performing the addition (matrix)"
      ],
      "metadata": {
        "id": "b6gWv5NreQWj"
      },
      "execution_count": null,
      "outputs": []
    },
    {
      "cell_type": "code",
      "source": [
        "a = np.array([[1, 2, 3],\n",
        "              [4, 5, 6]])   # shape (2,3)\n",
        "b = np.array([10, 20, 30])  # shape (3,) converted to (1,3)\n",
        "print(np.add(a,b))\n",
        "print(a + b)\n",
        "# Row wise broadcasting"
      ],
      "metadata": {
        "colab": {
          "base_uri": "https://localhost:8080/"
        },
        "id": "bYNRS2-jWt28",
        "outputId": "cb29eb92-74ce-4026-ddb7-251d2c7a19e7"
      },
      "execution_count": null,
      "outputs": [
        {
          "output_type": "stream",
          "name": "stdout",
          "text": [
            "[[11 22 33]\n",
            " [14 25 36]]\n",
            "[[11 22 33]\n",
            " [14 25 36]]\n"
          ]
        }
      ]
    },
    {
      "cell_type": "code",
      "source": [
        "a = np.array([[1],\n",
        "              [2],\n",
        "              [3]])         # shape (3,1) -> (1,3)\n",
        "b = np.array([10, 20, 30])  # shape (3,)\n",
        "# broadcasting\n",
        "print(a + b)\n",
        "# (3,1), (1,3)\n",
        "# This is not possible"
      ],
      "metadata": {
        "colab": {
          "base_uri": "https://localhost:8080/"
        },
        "id": "2iOvejyOW9P8",
        "outputId": "7a1056ca-2fcf-4fde-eb1e-dd4e58905004"
      },
      "execution_count": null,
      "outputs": [
        {
          "output_type": "stream",
          "name": "stdout",
          "text": [
            "[[11 21 31]\n",
            " [12 22 32]\n",
            " [13 23 33]]\n"
          ]
        }
      ]
    },
    {
      "cell_type": "code",
      "source": [
        "a = np.array([[1, 2], [3, 4]])\n",
        "b = np.array([[2, 2], [2, 2]])\n",
        "print(a * b)"
      ],
      "metadata": {
        "id": "Pw5Aea1EjNgd",
        "colab": {
          "base_uri": "https://localhost:8080/"
        },
        "outputId": "0fed95c7-b595-410a-e617-c04136d7fe45"
      },
      "execution_count": null,
      "outputs": [
        {
          "output_type": "stream",
          "name": "stdout",
          "text": [
            "[[2 4]\n",
            " [6 8]]\n"
          ]
        }
      ]
    },
    {
      "cell_type": "code",
      "source": [
        "a = np.array([[1, 2], [3, 4]])\n",
        "b = np.array([[5, 6], [7, 8]])\n",
        "print(a @ b)  # or np.matmul(a, b)"
      ],
      "metadata": {
        "id": "RmZ6sCc4l7ZC"
      },
      "execution_count": null,
      "outputs": []
    },
    {
      "cell_type": "code",
      "source": [
        "np.linspace(1,3,3)"
      ],
      "metadata": {
        "colab": {
          "base_uri": "https://localhost:8080/"
        },
        "id": "jYGep9g7x7Ox",
        "outputId": "2080cd95-733d-42af-d524-7eb83119fcc4"
      },
      "execution_count": null,
      "outputs": [
        {
          "output_type": "execute_result",
          "data": {
            "text/plain": [
              "array([1., 2., 3.])"
            ]
          },
          "metadata": {},
          "execution_count": 12
        }
      ]
    },
    {
      "cell_type": "code",
      "source": [
        "ar10 = np.arange(1,13,1).reshape(3,4)\n",
        "\n",
        "print(ar10)"
      ],
      "metadata": {
        "colab": {
          "base_uri": "https://localhost:8080/"
        },
        "id": "oP7veJA8gpT3",
        "outputId": "bf8da297-4289-4012-82b6-c5c5bf780399"
      },
      "execution_count": null,
      "outputs": [
        {
          "output_type": "stream",
          "name": "stdout",
          "text": [
            "[[ 1  2  3  4]\n",
            " [ 5  6  7  8]\n",
            " [ 9 10 11 12]]\n"
          ]
        }
      ]
    },
    {
      "cell_type": "code",
      "source": [
        "ar11 = np.array([[5,6],[3,5],[1,4]])"
      ],
      "metadata": {
        "id": "JPZyrvcshBbU"
      },
      "execution_count": null,
      "outputs": []
    },
    {
      "cell_type": "code",
      "source": [
        "np.hstack((ar10,ar11))"
      ],
      "metadata": {
        "colab": {
          "base_uri": "https://localhost:8080/"
        },
        "id": "RPNEppq-hKUg",
        "outputId": "3d59f4bd-e9a9-4ec2-aac5-c5891608fd04"
      },
      "execution_count": null,
      "outputs": [
        {
          "output_type": "execute_result",
          "data": {
            "text/plain": [
              "array([[ 1,  2,  3,  4,  5,  6],\n",
              "       [ 5,  6,  7,  8,  3,  5],\n",
              "       [ 9, 10, 11, 12,  1,  4]])"
            ]
          },
          "metadata": {},
          "execution_count": 40
        }
      ]
    },
    {
      "cell_type": "code",
      "source": [],
      "metadata": {
        "id": "rjj6Nql0iIFQ"
      },
      "execution_count": null,
      "outputs": []
    },
    {
      "cell_type": "code",
      "source": [
        "ar13 = np.array([[13,14,15,16]])\n",
        "np.vstack((ar10,ar13))"
      ],
      "metadata": {
        "colab": {
          "base_uri": "https://localhost:8080/"
        },
        "id": "OD3C8N35hz5s",
        "outputId": "594308a1-b513-4d66-bc6b-c109ad98656e"
      },
      "execution_count": null,
      "outputs": [
        {
          "output_type": "execute_result",
          "data": {
            "text/plain": [
              "array([[ 1,  2,  3,  4],\n",
              "       [ 5,  6,  7,  8],\n",
              "       [ 9, 10, 11, 12],\n",
              "       [13, 14, 15, 16]])"
            ]
          },
          "metadata": {},
          "execution_count": 41
        }
      ]
    },
    {
      "cell_type": "code",
      "source": [
        "a = np.array([1, 2])\n",
        "b = np.array([3, 4,5,56])\n",
        "print(np.hstack((a, b)))\n",
        "# Horizontal stack adds elements to existing rows."
      ],
      "metadata": {
        "id": "t5nRnDhSx9AW",
        "colab": {
          "base_uri": "https://localhost:8080/"
        },
        "outputId": "874e07ce-1f6b-4587-c25f-8f7324237123"
      },
      "execution_count": null,
      "outputs": [
        {
          "output_type": "stream",
          "name": "stdout",
          "text": [
            "[ 1  2  3  4  5 56]\n"
          ]
        }
      ]
    },
    {
      "cell_type": "code",
      "source": [
        "a = np.array([[1], [2]])     # shape (2, 1)\n",
        "b = np.array([[3], [4]])     # shape (2, 1)\n",
        "\n",
        "print(np.hstack((a, b)))\n"
      ],
      "metadata": {
        "id": "yVjgMChvYhWf"
      },
      "execution_count": null,
      "outputs": []
    },
    {
      "cell_type": "code",
      "source": [
        "a = np.array([1, 2])\n",
        "b = np.array([3, 4])\n",
        "print(np.vstack((a, b)))\n",
        "# Creates rows instead of adding values to existing rows like its name vertical stacking"
      ],
      "metadata": {
        "id": "cYBuGSTDYmXB"
      },
      "execution_count": null,
      "outputs": []
    },
    {
      "cell_type": "code",
      "source": [
        "# hstack means -> add another array horizontally"
      ],
      "metadata": {
        "id": "H1OAGi6sgeAC"
      },
      "execution_count": null,
      "outputs": []
    },
    {
      "cell_type": "code",
      "source": [
        "arr14 = np.arange(1,13).reshape(3,4)"
      ],
      "metadata": {
        "id": "-kMgawIAeDZQ"
      },
      "execution_count": null,
      "outputs": []
    },
    {
      "cell_type": "code",
      "source": [
        "arr14"
      ],
      "metadata": {
        "colab": {
          "base_uri": "https://localhost:8080/"
        },
        "id": "yxaflcK7eTBy",
        "outputId": "67d06537-2fca-41a1-c0cf-4a5df04d62c9"
      },
      "execution_count": null,
      "outputs": [
        {
          "output_type": "execute_result",
          "data": {
            "text/plain": [
              "array([[ 1,  2,  3,  4],\n",
              "       [ 5,  6,  7,  8],\n",
              "       [ 9, 10, 11, 12]])"
            ]
          },
          "metadata": {},
          "execution_count": 6
        }
      ]
    },
    {
      "cell_type": "code",
      "source": [
        "np.sum(arr14, axis=1)"
      ],
      "metadata": {
        "colab": {
          "base_uri": "https://localhost:8080/"
        },
        "id": "eoU9I8f4i8OR",
        "outputId": "7756190a-fc8c-461b-9f55-c8c5e0bca08a"
      },
      "execution_count": 13,
      "outputs": [
        {
          "output_type": "execute_result",
          "data": {
            "text/plain": [
              "array([10, 26, 42])"
            ]
          },
          "metadata": {},
          "execution_count": 13
        }
      ]
    },
    {
      "cell_type": "code",
      "source": [
        "np.sum(arr14, axis=0)"
      ],
      "metadata": {
        "colab": {
          "base_uri": "https://localhost:8080/"
        },
        "id": "7egiyFtReDWM",
        "outputId": "610a23cd-c63d-41c8-a45a-4347aa3faac1"
      },
      "execution_count": null,
      "outputs": [
        {
          "output_type": "execute_result",
          "data": {
            "text/plain": [
              "array([15, 18, 21, 24])"
            ]
          },
          "metadata": {},
          "execution_count": 7
        }
      ]
    },
    {
      "cell_type": "code",
      "source": [
        "np.sum(arr14, axis=1)"
      ],
      "metadata": {
        "colab": {
          "base_uri": "https://localhost:8080/"
        },
        "id": "OZgfqL65eQwS",
        "outputId": "a78f403b-9358-42c1-9b3a-38aab6790dca"
      },
      "execution_count": null,
      "outputs": [
        {
          "output_type": "execute_result",
          "data": {
            "text/plain": [
              "array([10, 26, 42])"
            ]
          },
          "metadata": {},
          "execution_count": 8
        }
      ]
    },
    {
      "cell_type": "code",
      "source": [
        "arr14[np.argmin(arr14)]\n",
        "\n"
      ],
      "metadata": {
        "colab": {
          "base_uri": "https://localhost:8080/"
        },
        "id": "_QKrz0mReeuV",
        "outputId": "54b7967d-beb4-4ace-f383-50fce625b95e"
      },
      "execution_count": null,
      "outputs": [
        {
          "output_type": "execute_result",
          "data": {
            "text/plain": [
              "array([1, 2, 3, 4])"
            ]
          },
          "metadata": {},
          "execution_count": 10
        }
      ]
    },
    {
      "cell_type": "code",
      "source": [
        "# dummy values --\n",
        "#\n",
        "np.random.randint(1,10,10)"
      ],
      "metadata": {
        "id": "BCbBvPj-ekA-",
        "colab": {
          "base_uri": "https://localhost:8080/"
        },
        "outputId": "c16cd8c3-29b2-434f-c122-128b8de33eb6"
      },
      "execution_count": 14,
      "outputs": [
        {
          "output_type": "execute_result",
          "data": {
            "text/plain": [
              "array([1, 5, 1, 6, 5, 8, 8, 6, 1, 9])"
            ]
          },
          "metadata": {},
          "execution_count": 14
        }
      ]
    },
    {
      "cell_type": "markdown",
      "source": [
        "## distributions --> uniform and Normal distributions"
      ],
      "metadata": {
        "id": "WWuZ28FJjrVH"
      }
    },
    {
      "cell_type": "code",
      "source": [],
      "metadata": {
        "id": "x0LSftRhkZoj"
      },
      "execution_count": 33,
      "outputs": []
    },
    {
      "cell_type": "code",
      "source": [
        "# picked random values from the uniform distribution [0-1]\n",
        "np.random.seed(1000)\n",
        "np.random.rand(3,3)"
      ],
      "metadata": {
        "colab": {
          "base_uri": "https://localhost:8080/"
        },
        "id": "wQA_tFHljjrR",
        "outputId": "a8122645-2829-479e-c7fc-4c0d0b3cd234"
      },
      "execution_count": 38,
      "outputs": [
        {
          "output_type": "execute_result",
          "data": {
            "text/plain": [
              "array([[0.65358959, 0.11500694, 0.95028286],\n",
              "       [0.4821914 , 0.87247454, 0.21233268],\n",
              "       [0.04070962, 0.39719446, 0.2331322 ]])"
            ]
          },
          "metadata": {},
          "execution_count": 38
        }
      ]
    },
    {
      "cell_type": "code",
      "source": [
        "# standard normal distribution - mean 0 std -1\n",
        "np.random.randn(3,3)"
      ],
      "metadata": {
        "colab": {
          "base_uri": "https://localhost:8080/"
        },
        "id": "5KqrxMILkLpO",
        "outputId": "75f8df2e-38e3-49c3-877c-ffff94772fdb"
      },
      "execution_count": 16,
      "outputs": [
        {
          "output_type": "execute_result",
          "data": {
            "text/plain": [
              "array([[-1.28890832,  1.35838165,  0.75575168],\n",
              "       [ 0.02008885, -0.13209124, -0.21656106],\n",
              "       [-1.03129064,  0.48323315, -1.08072521]])"
            ]
          },
          "metadata": {},
          "execution_count": 16
        }
      ]
    },
    {
      "cell_type": "code",
      "source": [],
      "metadata": {
        "id": "phciHwktkgy3"
      },
      "execution_count": null,
      "outputs": []
    },
    {
      "cell_type": "code",
      "source": [
        "np.random.seed(1000)\n",
        "arr20 = np.random.rand(3,3)"
      ],
      "metadata": {
        "id": "bEc8LbtplSyb"
      },
      "execution_count": 37,
      "outputs": []
    },
    {
      "cell_type": "code",
      "source": [
        "arr20[arr20>0.5]"
      ],
      "metadata": {
        "colab": {
          "base_uri": "https://localhost:8080/"
        },
        "id": "1zWg2s6PlYqj",
        "outputId": "abd3226f-dcd7-42d3-e924-c413f994dd25"
      },
      "execution_count": 40,
      "outputs": [
        {
          "output_type": "execute_result",
          "data": {
            "text/plain": [
              "array([0.65358959, 0.95028286, 0.87247454])"
            ]
          },
          "metadata": {},
          "execution_count": 40
        }
      ]
    },
    {
      "cell_type": "code",
      "source": [
        "arr21 = np.array([1,3,4])"
      ],
      "metadata": {
        "id": "lfV0FZdLlh61"
      },
      "execution_count": 42,
      "outputs": []
    },
    {
      "cell_type": "code",
      "source": [
        "arr21[[True, False, True]]"
      ],
      "metadata": {
        "colab": {
          "base_uri": "https://localhost:8080/"
        },
        "id": "dC1-jWvclvWh",
        "outputId": "97e5305e-119c-45ee-86f4-2635dd5d2fa3"
      },
      "execution_count": 43,
      "outputs": [
        {
          "output_type": "execute_result",
          "data": {
            "text/plain": [
              "array([1, 4])"
            ]
          },
          "metadata": {},
          "execution_count": 43
        }
      ]
    },
    {
      "cell_type": "code",
      "source": [
        "print(arr21)"
      ],
      "metadata": {
        "colab": {
          "base_uri": "https://localhost:8080/"
        },
        "id": "jw3ZCvG2lyO7",
        "outputId": "8c00ab02-cc47-4cf4-f29e-5f0ad71d499f"
      },
      "execution_count": 44,
      "outputs": [
        {
          "output_type": "stream",
          "name": "stdout",
          "text": [
            "[1 3 4]\n"
          ]
        }
      ]
    },
    {
      "cell_type": "code",
      "source": [
        "arr21[1:3] ="
      ],
      "metadata": {
        "id": "EPwTS9m1mGn8"
      },
      "execution_count": 45,
      "outputs": []
    },
    {
      "cell_type": "code",
      "source": [
        "arr21"
      ],
      "metadata": {
        "colab": {
          "base_uri": "https://localhost:8080/"
        },
        "id": "YnTMAVCUmLy8",
        "outputId": "5a442d74-49af-43e7-9596-d9503a651483"
      },
      "execution_count": 46,
      "outputs": [
        {
          "output_type": "execute_result",
          "data": {
            "text/plain": [
              "array([ 1, 20, 20])"
            ]
          },
          "metadata": {},
          "execution_count": 46
        }
      ]
    },
    {
      "cell_type": "code",
      "source": [
        "arr22 = np.arange(20,40)"
      ],
      "metadata": {
        "id": "Gwh3vo8VmYP-"
      },
      "execution_count": 53,
      "outputs": []
    },
    {
      "cell_type": "code",
      "source": [
        "# Vectorized operation - which are faster in numpy, just like we have done for np.sum\n",
        "np.where(arr22>30,arr22*2,arr22)"
      ],
      "metadata": {
        "colab": {
          "base_uri": "https://localhost:8080/"
        },
        "id": "y0tOoPWxmM4J",
        "outputId": "b45a7053-069f-4226-bd95-33162a8e20aa"
      },
      "execution_count": 54,
      "outputs": [
        {
          "output_type": "execute_result",
          "data": {
            "text/plain": [
              "array([20, 21, 22, 23, 24, 25, 26, 27, 28, 29, 30, 62, 64, 66, 68, 70, 72,\n",
              "       74, 76, 78])"
            ]
          },
          "metadata": {},
          "execution_count": 54
        }
      ]
    },
    {
      "cell_type": "code",
      "source": [
        "indices = np.where(arr22>35)\n",
        "print(arr22[indices])"
      ],
      "metadata": {
        "colab": {
          "base_uri": "https://localhost:8080/"
        },
        "id": "x9VjwNZ8mj-m",
        "outputId": "d4601e8f-398a-4723-edd1-1c90a3fe17ce"
      },
      "execution_count": 57,
      "outputs": [
        {
          "output_type": "stream",
          "name": "stdout",
          "text": [
            "[36 37 38 39]\n"
          ]
        }
      ]
    },
    {
      "cell_type": "code",
      "source": [],
      "metadata": {
        "id": "YfZmohRfnNvH"
      },
      "execution_count": null,
      "outputs": []
    }
  ]
}